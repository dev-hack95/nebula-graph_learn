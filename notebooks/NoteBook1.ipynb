{
 "cells": [
  {
   "cell_type": "markdown",
   "id": "a3788eb1-3456-4f2a-887f-fa2520588331",
   "metadata": {},
   "source": [
    "# Nebula Graph Learn NoteBook1"
   ]
  },
  {
   "cell_type": "code",
   "execution_count": 1,
   "id": "76aa79a9-a2c0-4927-af9f-772f8544bbbb",
   "metadata": {},
   "outputs": [],
   "source": [
    "import os\n",
    "import json\n",
    "import base64\n",
    "import pandas as pd\n",
    "from dotenv import load_dotenv\n",
    "from nebula3.gclient.net import ConnectionPool\n",
    "from IPython.display import Image, display\n",
    "\n",
    "%load_ext dotenv\n",
    "%dotenv ../.env"
   ]
  },
  {
   "cell_type": "code",
   "execution_count": 2,
   "id": "b58c83e0-ffcc-4085-aa84-ec2224b2838d",
   "metadata": {},
   "outputs": [],
   "source": [
    "def mermaid(graph):\n",
    "    base64_string = base64.b64encode(graph.encode(\"ascii\")).decode(\"ascii\")\n",
    "    display(Image(url=\"https://mermaid.ink/img/\" + base64_string))"
   ]
  },
  {
   "cell_type": "code",
   "execution_count": 3,
   "id": "6f10aed9-e195-4cc1-b129-402919160ef8",
   "metadata": {},
   "outputs": [],
   "source": [
    "class NebulaClient:\n",
    "    \"\"\"\n",
    "        Info: The class helps to create new nebula client\n",
    "    \"\"\"\n",
    "    def __init__(self) -> None:\n",
    "        self.client = ConnectionPool()\n",
    "        self.host = os.getenv(\"HOST\")\n",
    "        self.port = os.getenv(\"PORT\")\n",
    "        self.user = os.getenv(\"NEBULAUSER\")\n",
    "        self.password = os.getenv(\"NEBULAPASS\")\n",
    "            \n",
    "    def _connect(self):\n",
    "        \"\"\"\n",
    "            Info: function is used to connect to nebula server pool   \n",
    "        \"\"\"\n",
    "        assert self.client.init([(self.host, int(self.port))])\n",
    "\n",
    "        self.client = self.client.get_session(self.user, self.password)\n",
    "        assert self.client is not None\n",
    "        \n",
    "        return self.client\n",
    "\n",
    "    def _execute(self, query: str) -> pd.DataFrame:\n",
    "        return pd.DataFrame(self.client.execute(f\"{query}\"))"
   ]
  },
  {
   "cell_type": "code",
   "execution_count": 4,
   "id": "f72b92ce-0d12-4d8c-b746-8c1c8139e127",
   "metadata": {},
   "outputs": [],
   "source": [
    "nebula = NebulaClient()"
   ]
  },
  {
   "cell_type": "code",
   "execution_count": 5,
   "id": "b46bccb5-7a4e-451b-8b0e-b27166ac9580",
   "metadata": {},
   "outputs": [],
   "source": [
    "client = nebula._connect()"
   ]
  },
  {
   "cell_type": "code",
   "execution_count": 6,
   "id": "1c1c27c0-deb1-48bf-96a4-541e263e0ddd",
   "metadata": {},
   "outputs": [
    {
     "data": {
      "text/html": [
       "<div>\n",
       "<style scoped>\n",
       "    .dataframe tbody tr th:only-of-type {\n",
       "        vertical-align: middle;\n",
       "    }\n",
       "\n",
       "    .dataframe tbody tr th {\n",
       "        vertical-align: top;\n",
       "    }\n",
       "\n",
       "    .dataframe thead th {\n",
       "        text-align: right;\n",
       "    }\n",
       "</style>\n",
       "<table border=\"1\" class=\"dataframe\">\n",
       "  <thead>\n",
       "    <tr style=\"text-align: right;\">\n",
       "      <th></th>\n",
       "      <th>0</th>\n",
       "      <th>1</th>\n",
       "      <th>2</th>\n",
       "      <th>3</th>\n",
       "      <th>4</th>\n",
       "      <th>5</th>\n",
       "      <th>6</th>\n",
       "    </tr>\n",
       "  </thead>\n",
       "  <tbody>\n",
       "    <tr>\n",
       "      <th>0</th>\n",
       "      <td>\"storaged0\"</td>\n",
       "      <td>9779</td>\n",
       "      <td>\"ONLINE\"</td>\n",
       "      <td>0</td>\n",
       "      <td>\"No valid partition\"</td>\n",
       "      <td>\"No valid partition\"</td>\n",
       "      <td>\"3.8.0\"</td>\n",
       "    </tr>\n",
       "    <tr>\n",
       "      <th>1</th>\n",
       "      <td>\"storaged1\"</td>\n",
       "      <td>9779</td>\n",
       "      <td>\"ONLINE\"</td>\n",
       "      <td>0</td>\n",
       "      <td>\"No valid partition\"</td>\n",
       "      <td>\"No valid partition\"</td>\n",
       "      <td>\"3.8.0\"</td>\n",
       "    </tr>\n",
       "    <tr>\n",
       "      <th>2</th>\n",
       "      <td>\"storaged2\"</td>\n",
       "      <td>9779</td>\n",
       "      <td>\"ONLINE\"</td>\n",
       "      <td>0</td>\n",
       "      <td>\"No valid partition\"</td>\n",
       "      <td>\"No valid partition\"</td>\n",
       "      <td>\"3.8.0\"</td>\n",
       "    </tr>\n",
       "  </tbody>\n",
       "</table>\n",
       "</div>"
      ],
      "text/plain": [
       "             0     1         2  3                     4                     5  \\\n",
       "0  \"storaged0\"  9779  \"ONLINE\"  0  \"No valid partition\"  \"No valid partition\"   \n",
       "1  \"storaged1\"  9779  \"ONLINE\"  0  \"No valid partition\"  \"No valid partition\"   \n",
       "2  \"storaged2\"  9779  \"ONLINE\"  0  \"No valid partition\"  \"No valid partition\"   \n",
       "\n",
       "         6  \n",
       "0  \"3.8.0\"  \n",
       "1  \"3.8.0\"  \n",
       "2  \"3.8.0\"  "
      ]
     },
     "execution_count": 6,
     "metadata": {},
     "output_type": "execute_result"
    }
   ],
   "source": [
    "nebula._execute(\"SHOW HOSTS;\")"
   ]
  },
  {
   "cell_type": "code",
   "execution_count": null,
   "id": "44e0b73a-d26f-4e25-9318-467a104a9539",
   "metadata": {},
   "outputs": [],
   "source": []
  },
  {
   "cell_type": "code",
   "execution_count": null,
   "id": "741f19bd-371f-42e1-bee6-4f9ab06f359c",
   "metadata": {},
   "outputs": [],
   "source": []
  },
  {
   "cell_type": "code",
   "execution_count": null,
   "id": "c5c18078-20ec-494a-9af5-8453157ffeb6",
   "metadata": {},
   "outputs": [],
   "source": []
  }
 ],
 "metadata": {
  "kernelspec": {
   "display_name": "Python 3 (ipykernel)",
   "language": "python",
   "name": "python3"
  },
  "language_info": {
   "codemirror_mode": {
    "name": "ipython",
    "version": 3
   },
   "file_extension": ".py",
   "mimetype": "text/x-python",
   "name": "python",
   "nbconvert_exporter": "python",
   "pygments_lexer": "ipython3",
   "version": "3.10.12"
  }
 },
 "nbformat": 4,
 "nbformat_minor": 5
}
